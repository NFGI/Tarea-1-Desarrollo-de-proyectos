{
 "cells": [
  {
   "cell_type": "code",
   "execution_count": 2,
   "id": "17321de2",
   "metadata": {},
   "outputs": [
    {
     "ename": "ImportError",
     "evalue": "cannot import name 'cargar_parquet' from 'data.dataset' (c:\\Users\\nicol\\Desktop\\Magister\\Desarrollo de proyectos\\Tarea-1-Desarrollo-de-proyectos\\src\\data\\dataset.py)",
     "output_type": "error",
     "traceback": [
      "\u001b[31m---------------------------------------------------------------------------\u001b[39m",
      "\u001b[31mImportError\u001b[39m                               Traceback (most recent call last)",
      "\u001b[36mCell\u001b[39m\u001b[36m \u001b[39m\u001b[32mIn[2]\u001b[39m\u001b[32m, line 9\u001b[39m\n\u001b[32m      6\u001b[39m \u001b[38;5;66;03m# Importar desde la carpeta src\u001b[39;00m\n\u001b[32m      7\u001b[39m sys.path.append(os.path.abspath(os.path.join(\u001b[33m'\u001b[39m\u001b[33m..\u001b[39m\u001b[33m'\u001b[39m, \u001b[33m'\u001b[39m\u001b[33msrc\u001b[39m\u001b[33m'\u001b[39m)))\n\u001b[32m----> \u001b[39m\u001b[32m9\u001b[39m \u001b[38;5;28;01mfrom\u001b[39;00m\u001b[38;5;250m \u001b[39m\u001b[34;01mdata\u001b[39;00m\u001b[34;01m.\u001b[39;00m\u001b[34;01mdataset\u001b[39;00m\u001b[38;5;250m \u001b[39m\u001b[38;5;28;01mimport\u001b[39;00m cargar_parquet  \n\u001b[32m     11\u001b[39m \u001b[38;5;66;03m# URL del Parquet\u001b[39;00m\n\u001b[32m     12\u001b[39m url = \u001b[33m'\u001b[39m\u001b[33mhttps://d37ci6vzurychx.cloudfront.net/trip-data/yellow_tripdata_2020-01.parquet\u001b[39m\u001b[33m'\u001b[39m\n",
      "\u001b[31mImportError\u001b[39m: cannot import name 'cargar_parquet' from 'data.dataset' (c:\\Users\\nicol\\Desktop\\Magister\\Desarrollo de proyectos\\Tarea-1-Desarrollo-de-proyectos\\src\\data\\dataset.py)"
     ]
    }
   ],
   "source": [
    "# notebooks/00_nyc_taxi_model.ipynb (primera celda)\n",
    "\n",
    "import sys\n",
    "import os\n",
    "\n",
    "# Importar desde la carpeta src\n",
    "sys.path.append(os.path.abspath(os.path.join('..', 'src')))\n",
    "\n",
    "from data.dataset import cargar_parquet  \n",
    "\n",
    "# URL del Parquet\n",
    "url = 'https://d37ci6vzurychx.cloudfront.net/trip-data/yellow_tripdata_2020-01.parquet'\n",
    "\n",
    "# Carga de datos\n",
    "taxi = cargar_parquet(url)\n",
    "\n",
    "# Vista previa\n",
    "taxi.head()\n"
   ]
  }
 ],
 "metadata": {
  "kernelspec": {
   "display_name": "Python 3",
   "language": "python",
   "name": "python3"
  },
  "language_info": {
   "codemirror_mode": {
    "name": "ipython",
    "version": 3
   },
   "file_extension": ".py",
   "mimetype": "text/x-python",
   "name": "python",
   "nbconvert_exporter": "python",
   "pygments_lexer": "ipython3",
   "version": "3.13.5"
  }
 },
 "nbformat": 4,
 "nbformat_minor": 5
}
