{
 "cells": [
  {
   "cell_type": "code",
   "execution_count": 25,
   "id": "17321de2",
   "metadata": {},
   "outputs": [],
   "source": [
    "import sys, os\n",
    "sys.path.insert(0, os.path.abspath(os.path.join('..','src')))\n"
   ]
  },
  {
   "cell_type": "code",
   "execution_count": 26,
   "id": "6ca22f08",
   "metadata": {},
   "outputs": [
    {
     "ename": "ImportError",
     "evalue": "cannot import name 'cargar_parquet' from 'data.dataset' (c:\\Users\\nicol\\Desktop\\Magister\\Desarrollo de proyectos\\Tarea-1-Desarrollo-de-proyectos\\src\\data\\dataset.py)",
     "output_type": "error",
     "traceback": [
      "\u001b[31m---------------------------------------------------------------------------\u001b[39m",
      "\u001b[31mImportError\u001b[39m                               Traceback (most recent call last)",
      "\u001b[36mCell\u001b[39m\u001b[36m \u001b[39m\u001b[32mIn[26]\u001b[39m\u001b[32m, line 1\u001b[39m\n\u001b[32m----> \u001b[39m\u001b[32m1\u001b[39m \u001b[38;5;28;01mfrom\u001b[39;00m\u001b[38;5;250m \u001b[39m\u001b[34;01mdata\u001b[39;00m\u001b[34;01m.\u001b[39;00m\u001b[34;01mdataset\u001b[39;00m\u001b[38;5;250m \u001b[39m\u001b[38;5;28;01mimport\u001b[39;00m cargar_parquet\n\u001b[32m      3\u001b[39m url = \u001b[33mr\u001b[39m\u001b[33m\"\u001b[39m\u001b[33mC:\u001b[39m\u001b[33m\\\u001b[39m\u001b[33mUsers\u001b[39m\u001b[33m\\\u001b[39m\u001b[33mnicol\u001b[39m\u001b[33m\\\u001b[39m\u001b[33mDownloads\u001b[39m\u001b[33m\\\u001b[39m\u001b[33myellow_tripdata_2020-01.parquet\u001b[39m\u001b[33m\"\u001b[39m\n\u001b[32m      4\u001b[39m taxi = cargar_parquet(url)\n",
      "\u001b[31mImportError\u001b[39m: cannot import name 'cargar_parquet' from 'data.dataset' (c:\\Users\\nicol\\Desktop\\Magister\\Desarrollo de proyectos\\Tarea-1-Desarrollo-de-proyectos\\src\\data\\dataset.py)"
     ]
    }
   ],
   "source": [
    "from data.dataset import cargar_parquet\n",
    "\n",
    "url = r\"C:\\Users\\nicol\\Downloads\\yellow_tripdata_2020-01.parquet\"\n",
    "taxi = cargar_parquet(url)\n",
    "taxi.head()\n",
    "\n"
   ]
  },
  {
   "cell_type": "code",
   "execution_count": null,
   "id": "aeb4c5ff",
   "metadata": {},
   "outputs": [],
   "source": []
  }
 ],
 "metadata": {
  "kernelspec": {
   "display_name": "Python 3",
   "language": "python",
   "name": "python3"
  },
  "language_info": {
   "codemirror_mode": {
    "name": "ipython",
    "version": 3
   },
   "file_extension": ".py",
   "mimetype": "text/x-python",
   "name": "python",
   "nbconvert_exporter": "python",
   "pygments_lexer": "ipython3",
   "version": "3.13.5"
  }
 },
 "nbformat": 4,
 "nbformat_minor": 5
}
